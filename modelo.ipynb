{
 "cells": [
  {
   "cell_type": "markdown",
   "id": "9830fc49",
   "metadata": {},
   "source": [
    "**Creando un modelo regresión lineal con Scikit-Learn.**  \n",
    "\n",
    "Actividad\n",
    "1. Investigar y seleccionar un caso en la vida real, en el cual sea posible aplicar un modelo de regresión lineal. Fundamente la elección.  \n",
    "\n",
    "El caso seleccionado fue el siguiente: \n",
    "\n",
    "Engineering Student Journey\n",
    "Student Academic and Placement Dataset\n",
    "\n",
    "Este conjunto de datos proporciona información detallada sobre el rendimiento académico, las habilidades, las prácticas profesionales y los resultados de las colocaciones de los estudiantes de ingeniería. Abarca a estudiantes de ramas como CSE, ECE, MECH y más, incluyendo su promedio semestral, su participación en clubes y sus habilidades técnicas.\n",
    "https://www.kaggle.com/datasets/rakeshkapilavai/engineering-student-journey  "
   ]
  },
  {
   "cell_type": "markdown",
   "id": "ab0d8eba",
   "metadata": {},
   "source": [
    "2. Cree o seleccione un datasets sobre el caso elegido. En el caso de descargar, realice la limpieza correspondiente. (recomendado:  \n",
    "https://www.kaggle.com ). El datasets debe tener minimo 1000 filas. "
   ]
  },
  {
   "cell_type": "code",
   "execution_count": null,
   "id": "6f852236",
   "metadata": {},
   "outputs": [
    {
     "name": "stdout",
     "output_type": "stream",
     "text": [
      "                             Student ID                 Name   Age  Gender  \\\n",
      "0  b37412a3-fa5c-40ca-b087-7109a47482d7                 Amit  21.0    Male   \n",
      "1  65001423-faeb-4d19-a550-8ea26133a34d         Tina Ballard  19.0    Male   \n",
      "2  228aaf1d-8710-4c8d-bfec-001b0df01f34                Meena  19.0  Female   \n",
      "3  1aa67474-e200-4157-ad54-c95aaa4d52a8  Christopher Morales  23.0    Male   \n",
      "4  5122db4a-14c8-44d7-b2f4-e869f69d3dd7            Siddharth  20.0    Male   \n",
      "5  28dd6ff3-6391-4421-ba38-3c3164b96252            Siddharth  19.0    Male   \n",
      "6  5c375254-a8fc-4690-a9b1-c4a1da221b85        Alicia Dillon  18.0  Female   \n",
      "7  1090fccc-de58-401b-9cb7-b64f927e5e08                Rahul  23.0    Male   \n",
      "8  3f87e362-cf8d-446a-bc2c-bb0ddd334cc7    Richard Rodriguez  18.0    Male   \n",
      "9  db0f4094-ae51-472d-b7a5-5c76fa4e4399                 Anil  18.0    Male   \n",
      "\n",
      "  Branch  Average GPA  Backlogs  Attendance (%)  \\\n",
      "0   MECH         6.99       0.0           70.45   \n",
      "1    ECE         6.46       0.0           65.45   \n",
      "2  CIVIL         7.08       0.0           84.79   \n",
      "3    ECE         6.92       2.0           62.26   \n",
      "4    EEE         7.09       0.0           97.12   \n",
      "5   MECH         7.36       0.0           62.56   \n",
      "6   MECH         7.06       2.0           82.62   \n",
      "7     IT         6.67       0.0           97.72   \n",
      "8    EEE         7.34       1.0           74.15   \n",
      "9    CSE         7.19       0.0           76.12   \n",
      "\n",
      "                                               Clubs  \\\n",
      "0                         Literary Society, Robotics   \n",
      "1                      Literary Society, Coding Club   \n",
      "2                                   Literary Society   \n",
      "3                 Coding Club, Entrepreneurship Cell   \n",
      "4                                           Robotics   \n",
      "5                                        Sports Club   \n",
      "6     Entrepreneurship Cell, Robotics, Cultural Club   \n",
      "7       Literary Society, Cultural Club, Sports Club   \n",
      "8  Entrepreneurship Cell, Literary Society, Cultu...   \n",
      "9         Coding Club, Literary Society, Sports Club   \n",
      "\n",
      "                                             Skills  ... CTC (LPA)  \\\n",
      "0               C++, Machine Learning, Python, Java  ...      0.00   \n",
      "1                         C++, SQL, Web Development  ...      0.00   \n",
      "2               Data Science, SQL, Machine Learning  ...      0.00   \n",
      "3                                 Python, SQL, Java  ...      5.89   \n",
      "4                            C++, SQL, Java, Python  ...      0.00   \n",
      "5                                       SQL, Python  ...      6.05   \n",
      "6            Web Development, C++, Machine Learning  ...      0.00   \n",
      "7           C++, Java, Web Development, SQL, Python  ...      8.49   \n",
      "8           Python, SQL, C++, Web Development, Java  ...      0.00   \n",
      "9  Machine Learning, Data Science, Python, SQL, C++  ...      0.00   \n",
      "\n",
      "      Alumni Path Sem1 GPA Sem2 GPA  Sem3 GPA Sem4 GPA  Sem5 GPA  Sem6 GPA  \\\n",
      "0             NaN     8.34     5.24      6.06     7.81      7.18      7.04   \n",
      "1             NaN     7.37     6.37      6.45     5.99      6.55      6.99   \n",
      "2             NaN     5.79     8.82      7.03     6.92      7.67      6.01   \n",
      "3        Research     7.90     4.26      8.19     7.52      8.32      6.80   \n",
      "4             NaN     6.86     6.24      7.64     7.15      5.91      6.18   \n",
      "5         Startup     5.44     9.08      8.13     8.46      7.03      6.64   \n",
      "6             NaN     7.12     7.23      8.52     7.29      8.39      6.22   \n",
      "7  Higher Studies     6.74     6.63      8.27     6.71      4.34      7.35   \n",
      "8             NaN     7.91     6.08      7.71     5.67      9.76      6.78   \n",
      "9             NaN     7.08     6.90      7.92     6.71      7.27      7.32   \n",
      "\n",
      "   Sem7 GPA  Sem8 GPA  \n",
      "0      8.26      5.99  \n",
      "1      6.46      5.52  \n",
      "2      7.75      6.62  \n",
      "3      4.94      7.43  \n",
      "4      8.19      8.54  \n",
      "5      6.33      7.81  \n",
      "6      5.40      6.35  \n",
      "7      6.60      6.71  \n",
      "8      6.68      8.14  \n",
      "9      6.33      7.99  \n",
      "\n",
      "[10 rows x 24 columns]\n"
     ]
    }
   ],
   "source": [
    "import pandas as pd\n",
    "import numpy as np\n",
    "import matplotlib.pyplot as plt\n",
    "from sklearn.linear_model import LinearRegression\n",
    "\n",
    "#Cargamos el Data Set\n",
    "df = pd.read_csv(\"students.csv\")\n",
    "\n",
    "#Mostraremos las primeras 10 Filas.\n",
    "print(df.head(10))"
   ]
  },
  {
   "cell_type": "code",
   "execution_count": 4,
   "id": "384607bf",
   "metadata": {},
   "outputs": [
    {
     "name": "stdout",
     "output_type": "stream",
     "text": [
      "\n",
      "Columnas y tipos:\n",
      "<class 'pandas.core.frame.DataFrame'>\n",
      "RangeIndex: 2000 entries, 0 to 1999\n",
      "Data columns (total 24 columns):\n",
      " #   Column             Non-Null Count  Dtype  \n",
      "---  ------             --------------  -----  \n",
      " 0   Student ID         1999 non-null   object \n",
      " 1   Name               2000 non-null   object \n",
      " 2   Age                1999 non-null   float64\n",
      " 3   Gender             1999 non-null   object \n",
      " 4   Branch             1999 non-null   object \n",
      " 5   Average GPA        1999 non-null   float64\n",
      " 6   Backlogs           1999 non-null   float64\n",
      " 7   Attendance (%)     1999 non-null   float64\n",
      " 8   Clubs              1999 non-null   object \n",
      " 9   Skills             1999 non-null   object \n",
      " 10  Internship Done    1999 non-null   object \n",
      " 11  Internship Domain  982 non-null    object \n",
      " 12  Placement Status   1999 non-null   object \n",
      " 13  Placement Domain   1032 non-null   object \n",
      " 14  CTC (LPA)          1999 non-null   float64\n",
      " 15  Alumni Path        1032 non-null   object \n",
      " 16  Sem1 GPA           1999 non-null   float64\n",
      " 17  Sem2 GPA           1999 non-null   float64\n",
      " 18  Sem3 GPA           1999 non-null   float64\n",
      " 19  Sem4 GPA           1999 non-null   float64\n",
      " 20  Sem5 GPA           1999 non-null   float64\n",
      " 21  Sem6 GPA           1999 non-null   float64\n",
      " 22  Sem7 GPA           1999 non-null   float64\n",
      " 23  Sem8 GPA           1999 non-null   float64\n",
      "dtypes: float64(13), object(11)\n",
      "memory usage: 375.1+ KB\n",
      "None\n"
     ]
    }
   ],
   "source": [
    "# Visualizamos las columnas y los tipos de datos\n",
    "print(\"\\nColumnas y tipos:\")\n",
    "print(df.info())"
   ]
  },
  {
   "cell_type": "code",
   "execution_count": 5,
   "id": "89407ca9",
   "metadata": {},
   "outputs": [],
   "source": [
    "# Realizamos la limpieza y eliminamos las columnas no numéricas o irrelevantes para la regresión\n",
    "df = df.drop(['Name', 'Email', 'Contact'], axis=1, errors='ignore')\n"
   ]
  },
  {
   "cell_type": "code",
   "execution_count": 6,
   "id": "116864c8",
   "metadata": {},
   "outputs": [
    {
     "name": "stdout",
     "output_type": "stream",
     "text": [
      "\n",
      "Valores nulos por columna:\n",
      "Student ID              1\n",
      "Age                     1\n",
      "Gender                  1\n",
      "Branch                  1\n",
      "Average GPA             1\n",
      "Backlogs                1\n",
      "Attendance (%)          1\n",
      "Clubs                   1\n",
      "Skills                  1\n",
      "Internship Done         1\n",
      "Internship Domain    1018\n",
      "Placement Status        1\n",
      "Placement Domain      968\n",
      "CTC (LPA)               1\n",
      "Alumni Path           968\n",
      "Sem1 GPA                1\n",
      "Sem2 GPA                1\n",
      "Sem3 GPA                1\n",
      "Sem4 GPA                1\n",
      "Sem5 GPA                1\n",
      "Sem6 GPA                1\n",
      "Sem7 GPA                1\n",
      "Sem8 GPA                1\n",
      "dtype: int64\n",
      "\n",
      "Filas después de limpiar: 481\n"
     ]
    }
   ],
   "source": [
    "# Revisamos los valores nulos\n",
    "print(\"\\nValores nulos por columna:\")\n",
    "print(df.isnull().sum())\n",
    "\n",
    "# Eliminamos las filas con valores faltantes\n",
    "df.dropna(inplace=True)\n",
    "\n",
    "# Confirmar cantidad final de filas\n",
    "print(\"\\nFilas después de limpiar:\", len(df))"
   ]
  },
  {
   "cell_type": "code",
   "execution_count": null,
   "id": "440027d2",
   "metadata": {},
   "outputs": [
    {
     "name": "stdout",
     "output_type": "stream",
     "text": [
      "\n",
      "Valores nulos por columna:\n",
      "Student ID           0\n",
      "Age                  0\n",
      "Gender               0\n",
      "Branch               0\n",
      "Average GPA          0\n",
      "Backlogs             0\n",
      "Attendance (%)       0\n",
      "Clubs                0\n",
      "Skills               0\n",
      "Internship Done      0\n",
      "Internship Domain    0\n",
      "Placement Status     0\n",
      "Placement Domain     0\n",
      "CTC (LPA)            0\n",
      "Alumni Path          0\n",
      "Sem1 GPA             0\n",
      "Sem2 GPA             0\n",
      "Sem3 GPA             0\n",
      "Sem4 GPA             0\n",
      "Sem5 GPA             0\n",
      "Sem6 GPA             0\n",
      "Sem7 GPA             0\n",
      "Sem8 GPA             0\n",
      "dtype: int64\n"
     ]
    }
   ],
   "source": [
    "# Volvemos a verificar que se haya hecho la limpieza correcta de los datos.\n",
    "print(\"\\nValores nulos por columna:\")\n",
    "print(df.isnull().sum())"
   ]
  },
  {
   "cell_type": "markdown",
   "id": "59ceaa3f",
   "metadata": {},
   "source": [
    "3. Cree y entrene un modelo de regresión lineal con la librería Scikit Learn."
   ]
  },
  {
   "cell_type": "code",
   "execution_count": 11,
   "id": "b3e5ddb3",
   "metadata": {},
   "outputs": [
    {
     "name": "stdout",
     "output_type": "stream",
     "text": [
      "Index(['Student ID', 'Name', 'Age', 'Gender', 'Branch', 'Average GPA',\n",
      "       'Backlogs', 'Attendance (%)', 'Clubs', 'Skills', 'Internship Done',\n",
      "       'Internship Domain', 'Placement Status', 'Placement Domain',\n",
      "       'CTC (LPA)', 'Alumni Path', 'Sem1 GPA', 'Sem2 GPA', 'Sem3 GPA',\n",
      "       'Sem4 GPA', 'Sem5 GPA', 'Sem6 GPA', 'Sem7 GPA', 'Sem8 GPA'],\n",
      "      dtype='object')\n",
      "                             Student ID                 Name   Age  Gender  \\\n",
      "0  b37412a3-fa5c-40ca-b087-7109a47482d7                 Amit  21.0    Male   \n",
      "1  65001423-faeb-4d19-a550-8ea26133a34d         Tina Ballard  19.0    Male   \n",
      "2  228aaf1d-8710-4c8d-bfec-001b0df01f34                Meena  19.0  Female   \n",
      "3  1aa67474-e200-4157-ad54-c95aaa4d52a8  Christopher Morales  23.0    Male   \n",
      "4  5122db4a-14c8-44d7-b2f4-e869f69d3dd7            Siddharth  20.0    Male   \n",
      "5  28dd6ff3-6391-4421-ba38-3c3164b96252            Siddharth  19.0    Male   \n",
      "6  5c375254-a8fc-4690-a9b1-c4a1da221b85        Alicia Dillon  18.0  Female   \n",
      "7  1090fccc-de58-401b-9cb7-b64f927e5e08                Rahul  23.0    Male   \n",
      "\n",
      "  Branch  Average GPA  Backlogs  Attendance (%)  \\\n",
      "0   MECH         6.99       0.0           70.45   \n",
      "1    ECE         6.46       0.0           65.45   \n",
      "2  CIVIL         7.08       0.0           84.79   \n",
      "3    ECE         6.92       2.0           62.26   \n",
      "4    EEE         7.09       0.0           97.12   \n",
      "5   MECH         7.36       0.0           62.56   \n",
      "6   MECH         7.06       2.0           82.62   \n",
      "7     IT         6.67       0.0           97.72   \n",
      "\n",
      "                                            Clubs  \\\n",
      "0                      Literary Society, Robotics   \n",
      "1                   Literary Society, Coding Club   \n",
      "2                                Literary Society   \n",
      "3              Coding Club, Entrepreneurship Cell   \n",
      "4                                        Robotics   \n",
      "5                                     Sports Club   \n",
      "6  Entrepreneurship Cell, Robotics, Cultural Club   \n",
      "7    Literary Society, Cultural Club, Sports Club   \n",
      "\n",
      "                                    Skills  ... CTC (LPA)     Alumni Path  \\\n",
      "0      C++, Machine Learning, Python, Java  ...      0.00             NaN   \n",
      "1                C++, SQL, Web Development  ...      0.00             NaN   \n",
      "2      Data Science, SQL, Machine Learning  ...      0.00             NaN   \n",
      "3                        Python, SQL, Java  ...      5.89        Research   \n",
      "4                   C++, SQL, Java, Python  ...      0.00             NaN   \n",
      "5                              SQL, Python  ...      6.05         Startup   \n",
      "6   Web Development, C++, Machine Learning  ...      0.00             NaN   \n",
      "7  C++, Java, Web Development, SQL, Python  ...      8.49  Higher Studies   \n",
      "\n",
      "  Sem1 GPA Sem2 GPA  Sem3 GPA Sem4 GPA  Sem5 GPA  Sem6 GPA  Sem7 GPA  Sem8 GPA  \n",
      "0     8.34     5.24      6.06     7.81      7.18      7.04      8.26      5.99  \n",
      "1     7.37     6.37      6.45     5.99      6.55      6.99      6.46      5.52  \n",
      "2     5.79     8.82      7.03     6.92      7.67      6.01      7.75      6.62  \n",
      "3     7.90     4.26      8.19     7.52      8.32      6.80      4.94      7.43  \n",
      "4     6.86     6.24      7.64     7.15      5.91      6.18      8.19      8.54  \n",
      "5     5.44     9.08      8.13     8.46      7.03      6.64      6.33      7.81  \n",
      "6     7.12     7.23      8.52     7.29      8.39      6.22      5.40      6.35  \n",
      "7     6.74     6.63      8.27     6.71      4.34      7.35      6.60      6.71  \n",
      "\n",
      "[8 rows x 24 columns]\n"
     ]
    }
   ],
   "source": [
    "df = pd.read_csv(\"students.csv\")\n",
    "print(df.columns)\n",
    "print(df.head(8))"
   ]
  },
  {
   "cell_type": "code",
   "execution_count": null,
   "id": "058ebb9d",
   "metadata": {},
   "outputs": [
    {
     "name": "stdout",
     "output_type": "stream",
     "text": [
      "Coeficientes del modelo:\n",
      "Age: -0.0127\n",
      "Attendance (%): -0.0023\n",
      "Backlogs: -0.0053\n",
      "\n",
      "Intercepto: 7.4523\n"
     ]
    }
   ],
   "source": [
    "import pandas as pd\n",
    "from sklearn.model_selection import train_test_split\n",
    "from sklearn.linear_model import LinearRegression\n",
    "from sklearn.metrics import mean_squared_error, r2_score\n",
    "\n",
    "# Cargar y limpiar el dataset\n",
    "df = pd.read_csv(\"students.csv\")\n",
    "df = df.drop(['Name', 'Email', 'Contact'], axis=1, errors='ignore')\n",
    "df.dropna(inplace=True)\n",
    "\n",
    "# Variables predictoras (X) y variable objetivo (y)\n",
    "X = df[['Age', 'Attendance (%)', 'Backlogs']]\n",
    "y = df['Average GPA']\n",
    "\n",
    "# Dividir en datos de entrenamiento y prueba (80% / 20%)\n",
    "X_train, X_test, y_train, y_test = train_test_split(X, y, test_size=0.2, random_state=42)\n",
    "\n",
    "# Crear el modelo de regresión lineal\n",
    "modelo = LinearRegression()\n",
    "\n",
    "# Entrenar el modelo\n",
    "modelo.fit(X_train, y_train)\n",
    "\n",
    "# Mostrar coeficientes y resultados\n",
    "print(\"Coeficientes del modelo:\")\n",
    "for col, coef in zip(X.columns, modelo.coef_):\n",
    "    print(f\"{col}: {coef:.4f}\")\n",
    "print(f\"\\nIntercepto: {modelo.intercept_:.4f}\")\n",
    "\n"
   ]
  },
  {
   "cell_type": "markdown",
   "id": "0a6dbf07",
   "metadata": {},
   "source": [
    "4. Realice predicciones con el modelo.  \n",
    "\n",
    "MSE (Mean Squared Error): te dice cuánto se equivocó el modelo en promedio (cuanto más bajo, mejor).\n",
    "\n",
    "R² (R-squared): mide qué tan bien explica el modelo la variabilidad de los datos (más cerca de 1 = mejor)."
   ]
  },
  {
   "cell_type": "code",
   "execution_count": 21,
   "id": "ebb83573",
   "metadata": {},
   "outputs": [
    {
     "name": "stdout",
     "output_type": "stream",
     "text": [
      "\n",
      "Error cuadrático medio (MSE): 0.0992\n",
      "Coeficiente de determinación R²: -0.0571\n",
      "\n",
      "Comparación de valores reales y predichos:\n",
      "   GPA Real  GPA Predicho\n",
      "0      6.57      7.056872\n",
      "1      6.97      6.971437\n",
      "2      7.53      7.029929\n",
      "3      7.17      7.077881\n",
      "4      7.20      7.000231\n"
     ]
    }
   ],
   "source": [
    "# Realizar predicciones sobre el conjunto\n",
    "y_pred = modelo.predict(X_test)\n",
    "\n",
    "# Evaluamos el modelo\n",
    "mse = mean_squared_error(y_test, y_pred)\n",
    "r2 = r2_score(y_test, y_pred)\n",
    "\n",
    "print(f\"\\nError cuadrático medio (MSE): {mse:.4f}\")\n",
    "print(f\"Coeficiente de determinación R²: {r2:.4f}\")\n",
    "\n",
    "# Mostrar las primeras 5 predicciones junto con los valores reales\n",
    "resultado = pd.DataFrame({'GPA Real': y_test.values, 'GPA Predicho': y_pred})\n",
    "print(\"\\nComparación de valores reales y predichos:\")\n",
    "print(resultado.head())\n"
   ]
  },
  {
   "cell_type": "markdown",
   "id": "6882cb32",
   "metadata": {},
   "source": [
    "5. Cree un gráfico de visualización con Matplotlib que compare los datos de entrenamiento con los resultados predecidos."
   ]
  },
  {
   "cell_type": "code",
   "execution_count": 27,
   "id": "5200c97e",
   "metadata": {},
   "outputs": [
    {
     "data": {
      "image/png": "[encoded data removed]",
      "text/plain": [
       "<Figure size 800x600 with 1 Axes>"
      ]
     },
     "metadata": {},
     "output_type": "display_data"
    }
   ],
   "source": [
    "# Creamos el gráfico de dispersión\n",
    "import matplotlib.pyplot as plt\n",
    "\n",
    "# Predecir sobre los datos de entrenamiento\n",
    "y_train_pred = modelo.predict(X_train)\n",
    "\n",
    "plt.figure(figsize=(8, 6))\n",
    "plt.scatter(y_train, y_train_pred, alpha=0.6, color='teal', edgecolors='k')\n",
    "plt.plot([y_train.min(), y_train.max()], [y_train.min(), y_train.max()], 'r--', lw=2)\n",
    "plt.xlabel(\"GPA Real (entrenamiento)\")\n",
    "plt.ylabel(\"GPA Predicho\")\n",
    "plt.title(\"Comparación entre GPA real y predicho (Datos de entrenamiento)\")\n",
    "plt.grid(True)\n",
    "plt.tight_layout()\n",
    "plt.show()"
   ]
  }
 ],
 "metadata": {
  "kernelspec": {
   "display_name": "env",
   "language": "python",
   "name": "python3"
  },
  "language_info": {
   "codemirror_mode": {
    "name": "ipython",
    "version": 3
   },
   "file_extension": ".py",
   "mimetype": "text/x-python",
   "name": "python",
   "nbconvert_exporter": "python",
   "pygments_lexer": "ipython3",
   "version": "3.12.9"
  }
 },
 "nbformat": 4,
 "nbformat_minor": 5
}
