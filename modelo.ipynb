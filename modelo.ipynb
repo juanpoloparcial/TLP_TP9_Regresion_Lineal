{
 "cells": [
  {
   "cell_type": "markdown",
   "id": "9830fc49",
   "metadata": {},
   "source": [
    "**Creando un modelo regresión lineal con Scikit-Learn.**  \n",
    "\n",
    "Actividad\n",
    "1. Investigar y seleccionar un caso en la vida real, en el cual sea posible aplicar un modelo de regresión lineal. Fundamente la elección.  \n",
    "\n",
    "2. Cree o seleccione un datasets sobre el caso elegido. En el caso de descargar, realice la limpieza correspondiente. (recomendado:  \n",
    "https://www.kaggle.com ). El datasets debe tener minimo 1000 filas.  \n",
    "\n",
    "3. Cree y entrene un modelo de regresión lineal con la librería Scikit Learn.  \n",
    "\n",
    "4. Realice predicciones con el modelo.  \n",
    "\n",
    "5. Cree un gráfico de visualización con Matplotlib que compare los datos de entrenamiento con los resultados predecidos.  "
   ]
  },
  {
   "cell_type": "markdown",
   "id": "59ceaa3f",
   "metadata": {},
   "source": []
  }
 ],
 "metadata": {
  "language_info": {
   "name": "python"
  }
 },
 "nbformat": 4,
 "nbformat_minor": 5
}
